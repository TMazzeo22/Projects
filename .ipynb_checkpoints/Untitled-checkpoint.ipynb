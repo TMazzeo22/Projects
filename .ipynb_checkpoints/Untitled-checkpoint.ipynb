{
 "cells": [
  {
   "cell_type": "markdown",
   "metadata": {},
   "source": [
    "### After scraping the web for the data and exporting it into a CSV we will start to get our hands really messy with the data. This data was messier than I expected and that was great! Because this is from a wiki where anyone can contribute, many of the columns had multiple formats which added to the challange. Let's import everything and get cleaning!"
   ]
  },
  {
   "cell_type": "code",
   "execution_count": 1,
   "metadata": {},
   "outputs": [],
   "source": [
    "import numpy as np\n",
    "import pandas as pd\n",
    "import matplotlib.pyplot as plt\n",
    "import matplotlib.patches as mpatches\n",
    "%matplotlib inline"
   ]
  },
  {
   "cell_type": "code",
   "execution_count": 2,
   "metadata": {},
   "outputs": [],
   "source": [
    "df = pd.read_excel('../Project - Data Cleaning - N_A/Weapon_Data.xlsx')\n",
    "df0 = pd.read_excel('Weapon_Data.xlsx', sheet_name = 0)\n",
    "df1 = pd.read_excel('Weapon_Data.xlsx', sheet_name = 1)\n",
    "df2 = pd.read_excel('Weapon_Data.xlsx', sheet_name = 2)\n",
    "df3 = pd.read_excel('Weapon_Data.xlsx', sheet_name = 3)"
   ]
  },
  {
   "cell_type": "code",
   "execution_count": 3,
   "metadata": {},
   "outputs": [],
   "source": [
    "# I quickly add the specifed weapon type to each table in order to better identify them later.\n",
    "\n",
    "df0['Type'] = 'Bracer'\n",
    "df1['Type'] = 'Short_Sword'\n",
    "df2['Type'] = 'Long_Sword'\n",
    "df3['Type'] = 'Spear'"
   ]
  },
  {
   "cell_type": "markdown",
   "metadata": {},
   "source": [
    "### To start off I am combining these 4 tables into a single one. Because they all have the same columns and basic elements we should be able to apply any data cleaning method  to all of them."
   ]
  },
  {
   "cell_type": "code",
   "execution_count": 4,
   "metadata": {},
   "outputs": [],
   "source": [
    "table = pd.concat(objs = [df0,df1,df2,df3],)"
   ]
  },
  {
   "cell_type": "code",
   "execution_count": 5,
   "metadata": {},
   "outputs": [
    {
     "data": {
      "text/html": [
       "<div>\n",
       "<style scoped>\n",
       "    .dataframe tbody tr th:only-of-type {\n",
       "        vertical-align: middle;\n",
       "    }\n",
       "\n",
       "    .dataframe tbody tr th {\n",
       "        vertical-align: top;\n",
       "    }\n",
       "\n",
       "    .dataframe thead th {\n",
       "        text-align: right;\n",
       "    }\n",
       "</style>\n",
       "<table border=\"1\" class=\"dataframe\">\n",
       "  <thead>\n",
       "    <tr style=\"text-align: right;\">\n",
       "      <th></th>\n",
       "      <th>Weapon</th>\n",
       "      <th>Attack</th>\n",
       "      <th>Combo</th>\n",
       "      <th>Special Abilities</th>\n",
       "      <th>Location</th>\n",
       "      <th>Type</th>\n",
       "    </tr>\n",
       "  </thead>\n",
       "  <tbody>\n",
       "    <tr>\n",
       "      <th>0</th>\n",
       "      <td>Bare Fists</td>\n",
       "      <td>LV1:100 - 100</td>\n",
       "      <td>LV1:Light: 4Heavy: 1</td>\n",
       "      <td>NaN</td>\n",
       "      <td>Initially available.</td>\n",
       "      <td>Bracer</td>\n",
       "    </tr>\n",
       "    <tr>\n",
       "      <th>1</th>\n",
       "      <td>Angel's Folly</td>\n",
       "      <td>LV1:150 - 165 LV4:570 - 627</td>\n",
       "      <td>LV1:Light: 5Heavy: 2 LV4:Light: 8Heavy: 3</td>\n",
       "      <td>ATK Speed Up Angel's Mercy (HP restored when d...</td>\n",
       "      <td>[Route A, B, C/D] Bought from Emil's shop. Emi...</td>\n",
       "      <td>Bracer</td>\n",
       "    </tr>\n",
       "    <tr>\n",
       "      <th>2</th>\n",
       "      <td>Demon's Cry</td>\n",
       "      <td>LV1:100 - 180 LV4:380 - 684</td>\n",
       "      <td>LV1:Light: 5Heavy: 2 LV4:Light: 8Heavy: 3</td>\n",
       "      <td>ATK Speed Up Devil's Hatred (Adds an additiona...</td>\n",
       "      <td>[Route B] Found in the hidden basement of the ...</td>\n",
       "      <td>Bracer</td>\n",
       "    </tr>\n",
       "    <tr>\n",
       "      <th>3</th>\n",
       "      <td>Type-4O Fists</td>\n",
       "      <td>LV1:140 - 150 LV4:532 - 570</td>\n",
       "      <td>LV1:Light: 5Heavy: 2 LV4:Light: 8Heavy: 3</td>\n",
       "      <td>Stun Up Energy Charge (Increases Damage while ...</td>\n",
       "      <td>[Route B] In the Resistance Camp, right beside...</td>\n",
       "      <td>Bracer</td>\n",
       "    </tr>\n",
       "    <tr>\n",
       "      <th>4</th>\n",
       "      <td>Type-3 Fists</td>\n",
       "      <td>LV1:110 - 170 LV4:418 - 646</td>\n",
       "      <td>LV1:Light: 3Heavy: 1 LV4:Light: 8Heavy: 3</td>\n",
       "      <td>Endurance Up (Increases DEF) Finish Blast (Add...</td>\n",
       "      <td>[Route A, B, C/D] Bought from Emil's shop. Emi...</td>\n",
       "      <td>Bracer</td>\n",
       "    </tr>\n",
       "  </tbody>\n",
       "</table>\n",
       "</div>"
      ],
      "text/plain": [
       "          Weapon                       Attack  \\\n",
       "0     Bare Fists                LV1:100 - 100   \n",
       "1  Angel's Folly  LV1:150 - 165 LV4:570 - 627   \n",
       "2    Demon's Cry  LV1:100 - 180 LV4:380 - 684   \n",
       "3  Type-4O Fists  LV1:140 - 150 LV4:532 - 570   \n",
       "4   Type-3 Fists  LV1:110 - 170 LV4:418 - 646   \n",
       "\n",
       "                                       Combo  \\\n",
       "0                       LV1:Light: 4Heavy: 1   \n",
       "1  LV1:Light: 5Heavy: 2 LV4:Light: 8Heavy: 3   \n",
       "2  LV1:Light: 5Heavy: 2 LV4:Light: 8Heavy: 3   \n",
       "3  LV1:Light: 5Heavy: 2 LV4:Light: 8Heavy: 3   \n",
       "4  LV1:Light: 3Heavy: 1 LV4:Light: 8Heavy: 3   \n",
       "\n",
       "                                   Special Abilities  \\\n",
       "0                                                NaN   \n",
       "1  ATK Speed Up Angel's Mercy (HP restored when d...   \n",
       "2  ATK Speed Up Devil's Hatred (Adds an additiona...   \n",
       "3  Stun Up Energy Charge (Increases Damage while ...   \n",
       "4  Endurance Up (Increases DEF) Finish Blast (Add...   \n",
       "\n",
       "                                            Location    Type  \n",
       "0                               Initially available.  Bracer  \n",
       "1  [Route A, B, C/D] Bought from Emil's shop. Emi...  Bracer  \n",
       "2  [Route B] Found in the hidden basement of the ...  Bracer  \n",
       "3  [Route B] In the Resistance Camp, right beside...  Bracer  \n",
       "4  [Route A, B, C/D] Bought from Emil's shop. Emi...  Bracer  "
      ]
     },
     "execution_count": 5,
     "metadata": {},
     "output_type": "execute_result"
    }
   ],
   "source": [
    "table.head(5)"
   ]
  },
  {
   "cell_type": "markdown",
   "metadata": {},
   "source": [
    "## Let's look at our columns a bit closer before cleaning anything.\n",
    "\n",
    "### 1. Weapon: The name of the weapon. For aesthetic purposes only.\n",
    "### 2. Attack: The attack value of the weapon. We are given the level 1 range (Minimum & Maximum) as well as the level 4 range. \n",
    "### 3. Combo: This shows how many times an attack can be executed before the character needs to rest. It also breaks it out between light and heavy attacks from level 1 and 4. A lot of information in a single column.\n",
    "### 4. Special Abilities: This shows additional benefits for a particular weapon.\n",
    "### 5. Location: Where in the game this is found.\n",
    "### 6. Type: What type of weapon this is.\n",
    "\n",
    "We will mainly be focusin on attack, combo, and type to start. However attack and combo are very dense and we will likely create more features from this."
   ]
  },
  {
   "cell_type": "markdown",
   "metadata": {},
   "source": [
    "The first objective is to parse out the minimum and maximum attack values for lvl 1 and lvl 4 weapons. This is definintly NOT the most pythonic method but to get the project moving this works.... for now."
   ]
  },
  {
   "cell_type": "code",
   "execution_count": 6,
   "metadata": {},
   "outputs": [],
   "source": [
    "def attack_minimum(x):\n",
    "    minimum = x.split(':')[1].strip()[:3].strip()\n",
    "    while True:\n",
    "        try: \n",
    "            int(minimum)\n",
    "            break\n",
    "        except ValueError:\n",
    "            minimum = x.split(':')[1].strip()[2:5].strip()\n",
    "    return int(minimum)"
   ]
  },
  {
   "cell_type": "code",
   "execution_count": 7,
   "metadata": {},
   "outputs": [],
   "source": [
    "def attack_maximum(x):\n",
    "    maximum = x.split(':')[1].strip()\n",
    "    a = maximum[6:]\n",
    "    b = maximum[8:11]\n",
    "    c = maximum[6:9]\n",
    "    d = maximum[5:7]\n",
    "    while True:\n",
    "        try:\n",
    "            int(a)\n",
    "            maximum = a\n",
    "            return int(maximum)\n",
    "        except:\n",
    "            try:\n",
    "                int(b)\n",
    "                maximum = b\n",
    "                return int(maximum)\n",
    "            except:\n",
    "                try:\n",
    "                    int(c)\n",
    "                    maximum = c\n",
    "                    return int(maximum)\n",
    "                except:\n",
    "                    return int(d)"
   ]
  },
  {
   "cell_type": "code",
   "execution_count": 8,
   "metadata": {},
   "outputs": [],
   "source": [
    "table['Minimum Lvl1'] = table['Attack'].apply(attack_minimum)\n",
    "table['Maximum Lvl1'] = table['Attack'].apply(attack_maximum)"
   ]
  },
  {
   "cell_type": "code",
   "execution_count": 11,
   "metadata": {
    "scrolled": false
   },
   "outputs": [
    {
     "data": {
      "text/html": [
       "<div>\n",
       "<style scoped>\n",
       "    .dataframe tbody tr th:only-of-type {\n",
       "        vertical-align: middle;\n",
       "    }\n",
       "\n",
       "    .dataframe tbody tr th {\n",
       "        vertical-align: top;\n",
       "    }\n",
       "\n",
       "    .dataframe thead th {\n",
       "        text-align: right;\n",
       "    }\n",
       "</style>\n",
       "<table border=\"1\" class=\"dataframe\">\n",
       "  <thead>\n",
       "    <tr style=\"text-align: right;\">\n",
       "      <th></th>\n",
       "      <th>Weapon</th>\n",
       "      <th>Attack</th>\n",
       "      <th>Combo</th>\n",
       "      <th>Special Abilities</th>\n",
       "      <th>Location</th>\n",
       "      <th>Type</th>\n",
       "      <th>Minimum Lvl1</th>\n",
       "      <th>Maximum Lvl1</th>\n",
       "    </tr>\n",
       "  </thead>\n",
       "  <tbody>\n",
       "    <tr>\n",
       "      <th>0</th>\n",
       "      <td>Bare Fists</td>\n",
       "      <td>LV1:100 - 100</td>\n",
       "      <td>LV1:Light: 4Heavy: 1</td>\n",
       "      <td>NaN</td>\n",
       "      <td>Initially available.</td>\n",
       "      <td>Bracer</td>\n",
       "      <td>100</td>\n",
       "      <td>100</td>\n",
       "    </tr>\n",
       "    <tr>\n",
       "      <th>1</th>\n",
       "      <td>Angel's Folly</td>\n",
       "      <td>LV1:150 - 165 LV4:570 - 627</td>\n",
       "      <td>LV1:Light: 5Heavy: 2 LV4:Light: 8Heavy: 3</td>\n",
       "      <td>ATK Speed Up Angel's Mercy (HP restored when d...</td>\n",
       "      <td>[Route A, B, C/D] Bought from Emil's shop. Emi...</td>\n",
       "      <td>Bracer</td>\n",
       "      <td>150</td>\n",
       "      <td>165</td>\n",
       "    </tr>\n",
       "    <tr>\n",
       "      <th>2</th>\n",
       "      <td>Demon's Cry</td>\n",
       "      <td>LV1:100 - 180 LV4:380 - 684</td>\n",
       "      <td>LV1:Light: 5Heavy: 2 LV4:Light: 8Heavy: 3</td>\n",
       "      <td>ATK Speed Up Devil's Hatred (Adds an additiona...</td>\n",
       "      <td>[Route B] Found in the hidden basement of the ...</td>\n",
       "      <td>Bracer</td>\n",
       "      <td>100</td>\n",
       "      <td>180</td>\n",
       "    </tr>\n",
       "    <tr>\n",
       "      <th>3</th>\n",
       "      <td>Type-4O Fists</td>\n",
       "      <td>LV1:140 - 150 LV4:532 - 570</td>\n",
       "      <td>LV1:Light: 5Heavy: 2 LV4:Light: 8Heavy: 3</td>\n",
       "      <td>Stun Up Energy Charge (Increases Damage while ...</td>\n",
       "      <td>[Route B] In the Resistance Camp, right beside...</td>\n",
       "      <td>Bracer</td>\n",
       "      <td>140</td>\n",
       "      <td>150</td>\n",
       "    </tr>\n",
       "    <tr>\n",
       "      <th>4</th>\n",
       "      <td>Type-3 Fists</td>\n",
       "      <td>LV1:110 - 170 LV4:418 - 646</td>\n",
       "      <td>LV1:Light: 3Heavy: 1 LV4:Light: 8Heavy: 3</td>\n",
       "      <td>Endurance Up (Increases DEF) Finish Blast (Add...</td>\n",
       "      <td>[Route A, B, C/D] Bought from Emil's shop. Emi...</td>\n",
       "      <td>Bracer</td>\n",
       "      <td>110</td>\n",
       "      <td>170</td>\n",
       "    </tr>\n",
       "  </tbody>\n",
       "</table>\n",
       "</div>"
      ],
      "text/plain": [
       "          Weapon                       Attack  \\\n",
       "0     Bare Fists                LV1:100 - 100   \n",
       "1  Angel's Folly  LV1:150 - 165 LV4:570 - 627   \n",
       "2    Demon's Cry  LV1:100 - 180 LV4:380 - 684   \n",
       "3  Type-4O Fists  LV1:140 - 150 LV4:532 - 570   \n",
       "4   Type-3 Fists  LV1:110 - 170 LV4:418 - 646   \n",
       "\n",
       "                                       Combo  \\\n",
       "0                       LV1:Light: 4Heavy: 1   \n",
       "1  LV1:Light: 5Heavy: 2 LV4:Light: 8Heavy: 3   \n",
       "2  LV1:Light: 5Heavy: 2 LV4:Light: 8Heavy: 3   \n",
       "3  LV1:Light: 5Heavy: 2 LV4:Light: 8Heavy: 3   \n",
       "4  LV1:Light: 3Heavy: 1 LV4:Light: 8Heavy: 3   \n",
       "\n",
       "                                   Special Abilities  \\\n",
       "0                                                NaN   \n",
       "1  ATK Speed Up Angel's Mercy (HP restored when d...   \n",
       "2  ATK Speed Up Devil's Hatred (Adds an additiona...   \n",
       "3  Stun Up Energy Charge (Increases Damage while ...   \n",
       "4  Endurance Up (Increases DEF) Finish Blast (Add...   \n",
       "\n",
       "                                            Location    Type  Minimum Lvl1  \\\n",
       "0                               Initially available.  Bracer           100   \n",
       "1  [Route A, B, C/D] Bought from Emil's shop. Emi...  Bracer           150   \n",
       "2  [Route B] Found in the hidden basement of the ...  Bracer           100   \n",
       "3  [Route B] In the Resistance Camp, right beside...  Bracer           140   \n",
       "4  [Route A, B, C/D] Bought from Emil's shop. Emi...  Bracer           110   \n",
       "\n",
       "   Maximum Lvl1  \n",
       "0           100  \n",
       "1           165  \n",
       "2           180  \n",
       "3           150  \n",
       "4           170  "
      ]
     },
     "execution_count": 11,
     "metadata": {},
     "output_type": "execute_result"
    }
   ],
   "source": [
    "table.head(5)"
   ]
  },
  {
   "cell_type": "code",
   "execution_count": 10,
   "metadata": {},
   "outputs": [
    {
     "data": {
      "text/plain": [
       "Text(0.5,1,'Level 1 Attack Power by Weapon')"
      ]
     },
     "execution_count": 10,
     "metadata": {},
     "output_type": "execute_result"
    },
    {
     "data": {
      "image/png": "[encoded data removed]",
      "text/plain": [
       "<matplotlib.figure.Figure at 0x22cbe639b70>"
      ]
     },
     "metadata": {},
     "output_type": "display_data"
    }
   ],
   "source": [
    "x = table['Minimum Lvl1']\n",
    "y = table['Maximum Lvl1']\n",
    "z = table['Type'].value_counts().index.values\n",
    "\n",
    "colors = {z[0]:'red', z[1]:'blue', z[2]:'green', z[3]:'black'}\n",
    "\n",
    "plt.figure(1)\n",
    "plt.scatter(x,y, c = table['Type'].apply(lambda x: colors[x]))\n",
    "plt.xlabel ('Minimum Lvl 1 Attack')\n",
    "plt.ylabel ('Maximum Lvl 1 Attack')\n",
    "plt.title (\"Level 1 Attack Power by Weapon\")"
   ]
  },
  {
   "cell_type": "code",
   "execution_count": null,
   "metadata": {},
   "outputs": [],
   "source": []
  },
  {
   "cell_type": "code",
   "execution_count": null,
   "metadata": {},
   "outputs": [],
   "source": []
  }
 ],
 "metadata": {
  "kernelspec": {
   "display_name": "Python 3",
   "language": "python",
   "name": "python3"
  },
  "language_info": {
   "codemirror_mode": {
    "name": "ipython",
    "version": 3
   },
   "file_extension": ".py",
   "mimetype": "text/x-python",
   "name": "python",
   "nbconvert_exporter": "python",
   "pygments_lexer": "ipython3",
   "version": "3.6.4"
  }
 },
 "nbformat": 4,
 "nbformat_minor": 2
}
